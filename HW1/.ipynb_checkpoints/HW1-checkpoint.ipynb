{
 "cells": [
  {
   "cell_type": "code",
   "execution_count": 4,
   "metadata": {},
   "outputs": [],
   "source": [
    "import numpy as np\n",
    "import pandas as pd"
   ]
  },
  {
   "cell_type": "code",
   "execution_count": 5,
   "metadata": {},
   "outputs": [],
   "source": [
    "datapath = 'data/'"
   ]
  },
  {
   "cell_type": "code",
   "execution_count": 6,
   "metadata": {},
   "outputs": [],
   "source": [
    "traindata = pd.read_csv(datapath+'train.csv', encoding='big5')\n",
    "traindata = traindata.replace('NR',0.0)"
   ]
  },
  {
   "cell_type": "code",
   "execution_count": 7,
   "metadata": {},
   "outputs": [],
   "source": [
    "data = np.zeros((18,1))\n",
    "data = data.tolist()"
   ]
  },
  {
   "cell_type": "code",
   "execution_count": 8,
   "metadata": {},
   "outputs": [],
   "source": [
    "for i in range(traindata.shape[0]):\n",
    "    data[i%18] += [float(i) for i in traindata.loc[i][3:]]"
   ]
  },
  {
   "cell_type": "code",
   "execution_count": 9,
   "metadata": {},
   "outputs": [],
   "source": [
    "df = pd.DataFrame(data)"
   ]
  },
  {
   "cell_type": "markdown",
   "metadata": {},
   "source": [
    "# 先用PM2.5这一个特征试一下"
   ]
  },
  {
   "cell_type": "code",
   "execution_count": 10,
   "metadata": {},
   "outputs": [],
   "source": [
    "train_x = []\n",
    "train_y = []"
   ]
  },
  {
   "cell_type": "code",
   "execution_count": 11,
   "metadata": {},
   "outputs": [],
   "source": [
    "pm_list = df.loc[9][1:].tolist()\n",
    "for m in range(12):\n",
    "    for i in range(m*480,(m+1)*480-9):\n",
    "        train_x.append(pm_list[i:i+9])\n",
    "        train_y.append(pm_list[i+9])"
   ]
  },
  {
   "cell_type": "markdown",
   "metadata": {},
   "source": [
    "Loss 函数只是预测值-真实值，grad是训练数据和loss的内积，不懂。。。。。"
   ]
  },
  {
   "cell_type": "code",
   "execution_count": 12,
   "metadata": {},
   "outputs": [],
   "source": [
    "# ydata = b + w * xdata\n",
    "b = 1.0\n",
    "w = np.array([1.0] * 9)\n",
    "x_data = np.array(train_x)\n",
    "y_data = np.array(train_y)\n",
    "lr = 1\n",
    "prev_gra = np.zeros(9)\n",
    "iteration = 100000\n",
    "\n",
    "# Store initial values for plotting\n",
    "b_history = [b]\n",
    "w_history = [w]\n",
    "\n",
    "lr_b = 0\n",
    "lr_w = 0\n",
    "\n",
    "# Iterations\n",
    "for i in range(iteration):\n",
    "    b_grad = 0.0\n",
    "    w_grad = 0.0\n",
    "    \n",
    "    y_ = np.dot(x_data, w)\n",
    "    Loss = y_ - y_data\n",
    "    gradient = 2*np.dot(x_data.T,Loss)\n",
    "    prev_gra += gradient**2\n",
    "    ada = np.sqrt(prev_gra)\n",
    "    w -= gradient * lr / ada\n",
    "    #for n in range(len(x_data)):\n",
    "     #   b_grad -= 2.0 * (y_data[n] - b - w*x_data[n])\n",
    "      #  w_grad -= 2.0 * (y_data[n] - b - w*x_data[n])*x_data[n]\n",
    "    \n",
    "    # Ada\n",
    "    #lr_b += b_grad ** 2\n",
    "    #lr_w += w_grad ** 2\n",
    "    \n",
    "    # Update parameters\n",
    "    #b = b - lr/np.sqrt(lr_b) * b_grad\n",
    "    #w = w - lr/np.sqrt(lr_w) * w_grad\n",
    "    \n",
    "    # Store for plotting\n",
    "    b_history.append(b)\n",
    "    w_history.append(w)"
   ]
  },
  {
   "cell_type": "code",
   "execution_count": 13,
   "metadata": {},
   "outputs": [
    {
     "data": {
      "text/plain": [
       "array([-5.04343234e-11,  7.90834065e-11, -7.82534926e-10, -8.34575076e-10,\n",
       "        1.79340987e-10, -3.39724693e-09, -3.30314265e-09, -8.58335625e-12,\n",
       "       -6.44095621e-09])"
      ]
     },
     "execution_count": 13,
     "metadata": {},
     "output_type": "execute_result"
    }
   ],
   "source": [
    "gradient"
   ]
  },
  {
   "cell_type": "code",
   "execution_count": 14,
   "metadata": {},
   "outputs": [
    {
     "data": {
      "text/plain": [
       "array([-0.01024349, -0.02978323,  0.21966975, -0.23020447, -0.05891998,\n",
       "        0.54043778, -0.57071212, -0.00279288,  1.11817422])"
      ]
     },
     "execution_count": 14,
     "metadata": {},
     "output_type": "execute_result"
    }
   ],
   "source": [
    "w"
   ]
  },
  {
   "cell_type": "code",
   "execution_count": 15,
   "metadata": {},
   "outputs": [
    {
     "data": {
      "text/plain": [
       "67.37492167681742"
      ]
     },
     "execution_count": 15,
     "metadata": {},
     "output_type": "execute_result"
    }
   ],
   "source": [
    "sum(x_data[100] * w)"
   ]
  },
  {
   "cell_type": "code",
   "execution_count": 16,
   "metadata": {},
   "outputs": [
    {
     "data": {
      "text/plain": [
       "72.0"
      ]
     },
     "execution_count": 16,
     "metadata": {},
     "output_type": "execute_result"
    }
   ],
   "source": [
    "y_data[100]"
   ]
  },
  {
   "cell_type": "code",
   "execution_count": 17,
   "metadata": {},
   "outputs": [
    {
     "data": {
      "text/plain": [
       "array([-11.34953404,  -7.98048506,  -0.79355904, ...,   3.36024726,\n",
       "        -5.91142107,  -4.54633544])"
      ]
     },
     "execution_count": 17,
     "metadata": {},
     "output_type": "execute_result"
    }
   ],
   "source": [
    "Loss"
   ]
  },
  {
   "cell_type": "code",
   "execution_count": 20,
   "metadata": {},
   "outputs": [
    {
     "data": {
      "text/plain": [
       "4.428030306112807"
      ]
     },
     "execution_count": 20,
     "metadata": {},
     "output_type": "execute_result"
    }
   ],
   "source": [
    "sum(np.sqrt(Loss**2))/len(Loss)"
   ]
  },
  {
   "cell_type": "code",
   "execution_count": 22,
   "metadata": {},
   "outputs": [],
   "source": [
    "from numpy.linalg import inv\n",
    "w2 = np.matmul(np.matmul(inv(np.matmul(x_data.transpose(),x_data)),x_data.transpose()),y_data)"
   ]
  },
  {
   "cell_type": "code",
   "execution_count": 23,
   "metadata": {},
   "outputs": [
    {
     "data": {
      "text/plain": [
       "array([-0.01024349, -0.02978323,  0.21966975, -0.23020447, -0.05891998,\n",
       "        0.54043778, -0.57071212, -0.00279288,  1.11817422])"
      ]
     },
     "execution_count": 23,
     "metadata": {},
     "output_type": "execute_result"
    }
   ],
   "source": [
    "w2"
   ]
  }
 ],
 "metadata": {
  "kernelspec": {
   "display_name": "Python 3",
   "language": "python",
   "name": "python3"
  },
  "language_info": {
   "codemirror_mode": {
    "name": "ipython",
    "version": 3
   },
   "file_extension": ".py",
   "mimetype": "text/x-python",
   "name": "python",
   "nbconvert_exporter": "python",
   "pygments_lexer": "ipython3",
   "version": "3.7.3"
  }
 },
 "nbformat": 4,
 "nbformat_minor": 2
}
